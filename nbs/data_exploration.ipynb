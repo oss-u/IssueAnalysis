{
 "cells": [
  {
   "cell_type": "code",
   "execution_count": 1,
   "id": "82dd2a78",
   "metadata": {},
   "outputs": [],
   "source": [
    "import pandas\n",
    "import json\n",
    "from os import listdir\n",
    "from os.path import isfile, join"
   ]
  },
  {
   "cell_type": "code",
   "execution_count": 2,
   "id": "189da8ba",
   "metadata": {},
   "outputs": [],
   "source": [
    "data_dir = '../dataset/raw/JupyterNotebook'"
   ]
  },
  {
   "cell_type": "code",
   "execution_count": 3,
   "id": "63057e40",
   "metadata": {},
   "outputs": [],
   "source": [
    "def get_files(dir_path):\n",
    "    return [join(dir_path, f) for f in listdir(dir_path) if isfile(join(dir_path, f))]"
   ]
  },
  {
   "cell_type": "code",
   "execution_count": 4,
   "id": "ee73979c",
   "metadata": {},
   "outputs": [],
   "source": [
    "def read_json_file(file_path):\n",
    "    try:\n",
    "        return json.load(open(f))\n",
    "    except json.decoder.JSONDecodeError:\n",
    "        return None"
   ]
  },
  {
   "cell_type": "code",
   "execution_count": 5,
   "id": "19c5d6c3",
   "metadata": {},
   "outputs": [],
   "source": [
    "data = []\n",
    "'''\n",
    "data = [\n",
    "    [{}, {},..., {}], # issue\n",
    "    [{}, {},..., {}]\n",
    "]\n",
    "'''\n",
    "for f in get_files(data_dir):\n",
    "    issue = read_json_file(f)\n",
    "    if issue:\n",
    "        data.append(read_json_file(f))"
   ]
  },
  {
   "cell_type": "code",
   "execution_count": 6,
   "id": "206db517",
   "metadata": {},
   "outputs": [],
   "source": [
    "# Removing empty txts\n",
    "# data = [d for d in data if d]"
   ]
  },
  {
   "cell_type": "code",
   "execution_count": 7,
   "id": "9f3189c7",
   "metadata": {},
   "outputs": [
    {
     "data": {
      "text/plain": [
       "[{'url': 'https://api.github.com/repos/jupyter/notebook/issues/comments/824259486',\n",
       "  'html_url': 'https://github.com/jupyter/notebook/issues/6040#issuecomment-824259486',\n",
       "  'issue_url': 'https://api.github.com/repos/jupyter/notebook/issues/6040',\n",
       "  'id': 824259486,\n",
       "  'node_id': 'MDEyOklzc3VlQ29tbWVudDgyNDI1OTQ4Ng==',\n",
       "  'user': {'login': 'kevin-bates',\n",
       "   'id': 22599560,\n",
       "   'node_id': 'MDQ6VXNlcjIyNTk5NTYw',\n",
       "   'avatar_url': 'https://avatars.githubusercontent.com/u/22599560?v=4',\n",
       "   'gravatar_id': '',\n",
       "   'url': 'https://api.github.com/users/kevin-bates',\n",
       "   'html_url': 'https://github.com/kevin-bates',\n",
       "   'followers_url': 'https://api.github.com/users/kevin-bates/followers',\n",
       "   'following_url': 'https://api.github.com/users/kevin-bates/following{/other_user}',\n",
       "   'gists_url': 'https://api.github.com/users/kevin-bates/gists{/gist_id}',\n",
       "   'starred_url': 'https://api.github.com/users/kevin-bates/starred{/owner}{/repo}',\n",
       "   'subscriptions_url': 'https://api.github.com/users/kevin-bates/subscriptions',\n",
       "   'organizations_url': 'https://api.github.com/users/kevin-bates/orgs',\n",
       "   'repos_url': 'https://api.github.com/users/kevin-bates/repos',\n",
       "   'events_url': 'https://api.github.com/users/kevin-bates/events{/privacy}',\n",
       "   'received_events_url': 'https://api.github.com/users/kevin-bates/received_events',\n",
       "   'type': 'User',\n",
       "   'site_admin': False},\n",
       "  'created_at': '2021-04-21T18:13:22Z',\n",
       "  'updated_at': '2021-04-21T18:13:22Z',\n",
       "  'author_association': 'MEMBER',\n",
       "  'body': 'This is a known issue in [jupyter_client](https://github.com/jupyter/jupyter_client/issues/634) and implies you (implicitly) installed jupyter_client `6.1.13` - which has since been removed.  Please update your jupyter_client to `6.1.12` and restart your notebook server.',\n",
       "  'performed_via_github_app': None}]"
      ]
     },
     "execution_count": 7,
     "metadata": {},
     "output_type": "execute_result"
    }
   ],
   "source": [
    "data[0]"
   ]
  },
  {
   "cell_type": "code",
   "execution_count": 11,
   "id": "34d0ff68",
   "metadata": {},
   "outputs": [],
   "source": [
    "issue_count = 0\n",
    "data_required = []\n",
    "for issue in data:\n",
    "    for comment in issue:\n",
    "        comment_ind = {}\n",
    "        comment_ind['issue_count'] = issue_count # to group them to belong to same issue\n",
    "        comment_ind['id'] = comment['id']\n",
    "        comment_ind['created_at'] = comment['created_at']\n",
    "        comment_ind['updated_at'] = comment['updated_at']\n",
    "        comment_ind['author_association'] = comment['author_association']\n",
    "        comment_ind['body'] = comment['body']\n",
    "        comment_ind['user_login'] = comment['user']['login']\n",
    "        comment_ind['user_type'] = comment['user']['type']\n",
    "        comment_ind['user_site_admin'] = comment['user']['site_admin']\n",
    "        data_required.append(comment_ind)\n",
    "    issue_count += 1"
   ]
  },
  {
   "cell_type": "code",
   "execution_count": 12,
   "id": "0f641060",
   "metadata": {},
   "outputs": [],
   "source": [
    "data_df = pandas.DataFrame(data_required)"
   ]
  },
  {
   "cell_type": "code",
   "execution_count": 13,
   "id": "2ad683b7",
   "metadata": {},
   "outputs": [
    {
     "data": {
      "text/html": [
       "<div>\n",
       "<style scoped>\n",
       "    .dataframe tbody tr th:only-of-type {\n",
       "        vertical-align: middle;\n",
       "    }\n",
       "\n",
       "    .dataframe tbody tr th {\n",
       "        vertical-align: top;\n",
       "    }\n",
       "\n",
       "    .dataframe thead th {\n",
       "        text-align: right;\n",
       "    }\n",
       "</style>\n",
       "<table border=\"1\" class=\"dataframe\">\n",
       "  <thead>\n",
       "    <tr style=\"text-align: right;\">\n",
       "      <th></th>\n",
       "      <th>issue_count</th>\n",
       "      <th>id</th>\n",
       "      <th>created_at</th>\n",
       "      <th>updated_at</th>\n",
       "      <th>author_association</th>\n",
       "      <th>body</th>\n",
       "      <th>user_login</th>\n",
       "      <th>user_type</th>\n",
       "      <th>user_site_admin</th>\n",
       "    </tr>\n",
       "  </thead>\n",
       "  <tbody>\n",
       "    <tr>\n",
       "      <th>0</th>\n",
       "      <td>0</td>\n",
       "      <td>824259486</td>\n",
       "      <td>2021-04-21T18:13:22Z</td>\n",
       "      <td>2021-04-21T18:13:22Z</td>\n",
       "      <td>MEMBER</td>\n",
       "      <td>This is a known issue in [jupyter_client](http...</td>\n",
       "      <td>kevin-bates</td>\n",
       "      <td>User</td>\n",
       "      <td>False</td>\n",
       "    </tr>\n",
       "    <tr>\n",
       "      <th>1</th>\n",
       "      <td>1</td>\n",
       "      <td>325328641</td>\n",
       "      <td>2017-08-28T11:29:17Z</td>\n",
       "      <td>2017-08-28T11:29:17Z</td>\n",
       "      <td>MEMBER</td>\n",
       "      <td>Thanks - actually heading cells are no longer ...</td>\n",
       "      <td>takluyver</td>\n",
       "      <td>User</td>\n",
       "      <td>False</td>\n",
       "    </tr>\n",
       "    <tr>\n",
       "      <th>2</th>\n",
       "      <td>1</td>\n",
       "      <td>325383558</td>\n",
       "      <td>2017-08-28T15:17:48Z</td>\n",
       "      <td>2017-08-28T15:17:48Z</td>\n",
       "      <td>CONTRIBUTOR</td>\n",
       "      <td>Alright. Fixing it now...</td>\n",
       "      <td>syedtshah</td>\n",
       "      <td>User</td>\n",
       "      <td>False</td>\n",
       "    </tr>\n",
       "    <tr>\n",
       "      <th>3</th>\n",
       "      <td>1</td>\n",
       "      <td>325409403</td>\n",
       "      <td>2017-08-28T16:51:12Z</td>\n",
       "      <td>2017-08-28T16:51:12Z</td>\n",
       "      <td>MEMBER</td>\n",
       "      <td>Thanks :-)</td>\n",
       "      <td>takluyver</td>\n",
       "      <td>User</td>\n",
       "      <td>False</td>\n",
       "    </tr>\n",
       "    <tr>\n",
       "      <th>4</th>\n",
       "      <td>2</td>\n",
       "      <td>175818892</td>\n",
       "      <td>2016-01-27T19:44:25Z</td>\n",
       "      <td>2016-01-27T19:44:25Z</td>\n",
       "      <td>MEMBER</td>\n",
       "      <td>This is an iPython bug from what I can tell. I...</td>\n",
       "      <td>jakirkham</td>\n",
       "      <td>User</td>\n",
       "      <td>False</td>\n",
       "    </tr>\n",
       "    <tr>\n",
       "      <th>...</th>\n",
       "      <td>...</td>\n",
       "      <td>...</td>\n",
       "      <td>...</td>\n",
       "      <td>...</td>\n",
       "      <td>...</td>\n",
       "      <td>...</td>\n",
       "      <td>...</td>\n",
       "      <td>...</td>\n",
       "      <td>...</td>\n",
       "    </tr>\n",
       "    <tr>\n",
       "      <th>30729</th>\n",
       "      <td>4748</td>\n",
       "      <td>526858512</td>\n",
       "      <td>2019-08-31T19:17:41Z</td>\n",
       "      <td>2019-08-31T19:17:41Z</td>\n",
       "      <td>CONTRIBUTOR</td>\n",
       "      <td>@kevin-bates since nobody has reviewed this ye...</td>\n",
       "      <td>benthayer</td>\n",
       "      <td>User</td>\n",
       "      <td>False</td>\n",
       "    </tr>\n",
       "    <tr>\n",
       "      <th>30730</th>\n",
       "      <td>4748</td>\n",
       "      <td>526862244</td>\n",
       "      <td>2019-08-31T20:14:56Z</td>\n",
       "      <td>2019-08-31T20:14:56Z</td>\n",
       "      <td>MEMBER</td>\n",
       "      <td>Hi Ben - sorry for the frustration.  It certai...</td>\n",
       "      <td>kevin-bates</td>\n",
       "      <td>User</td>\n",
       "      <td>False</td>\n",
       "    </tr>\n",
       "    <tr>\n",
       "      <th>30731</th>\n",
       "      <td>4748</td>\n",
       "      <td>526864628</td>\n",
       "      <td>2019-08-31T20:55:56Z</td>\n",
       "      <td>2019-08-31T20:55:56Z</td>\n",
       "      <td>CONTRIBUTOR</td>\n",
       "      <td>@marijnh I see you've been active on the CodeM...</td>\n",
       "      <td>benthayer</td>\n",
       "      <td>User</td>\n",
       "      <td>False</td>\n",
       "    </tr>\n",
       "    <tr>\n",
       "      <th>30732</th>\n",
       "      <td>4748</td>\n",
       "      <td>527335475</td>\n",
       "      <td>2019-09-03T07:14:14Z</td>\n",
       "      <td>2019-09-03T07:14:14Z</td>\n",
       "      <td>NONE</td>\n",
       "      <td>@bthayer2365 Hi. Sorry, too busy to start revi...</td>\n",
       "      <td>marijnh</td>\n",
       "      <td>User</td>\n",
       "      <td>False</td>\n",
       "    </tr>\n",
       "    <tr>\n",
       "      <th>30733</th>\n",
       "      <td>4748</td>\n",
       "      <td>527546869</td>\n",
       "      <td>2019-09-03T16:58:35Z</td>\n",
       "      <td>2019-09-03T16:58:35Z</td>\n",
       "      <td>MEMBER</td>\n",
       "      <td>@bthayer2365 - Here are a couple more suggesti...</td>\n",
       "      <td>kevin-bates</td>\n",
       "      <td>User</td>\n",
       "      <td>False</td>\n",
       "    </tr>\n",
       "  </tbody>\n",
       "</table>\n",
       "<p>30734 rows × 9 columns</p>\n",
       "</div>"
      ],
      "text/plain": [
       "       issue_count         id            created_at            updated_at  \\\n",
       "0                0  824259486  2021-04-21T18:13:22Z  2021-04-21T18:13:22Z   \n",
       "1                1  325328641  2017-08-28T11:29:17Z  2017-08-28T11:29:17Z   \n",
       "2                1  325383558  2017-08-28T15:17:48Z  2017-08-28T15:17:48Z   \n",
       "3                1  325409403  2017-08-28T16:51:12Z  2017-08-28T16:51:12Z   \n",
       "4                2  175818892  2016-01-27T19:44:25Z  2016-01-27T19:44:25Z   \n",
       "...            ...        ...                   ...                   ...   \n",
       "30729         4748  526858512  2019-08-31T19:17:41Z  2019-08-31T19:17:41Z   \n",
       "30730         4748  526862244  2019-08-31T20:14:56Z  2019-08-31T20:14:56Z   \n",
       "30731         4748  526864628  2019-08-31T20:55:56Z  2019-08-31T20:55:56Z   \n",
       "30732         4748  527335475  2019-09-03T07:14:14Z  2019-09-03T07:14:14Z   \n",
       "30733         4748  527546869  2019-09-03T16:58:35Z  2019-09-03T16:58:35Z   \n",
       "\n",
       "      author_association                                               body  \\\n",
       "0                 MEMBER  This is a known issue in [jupyter_client](http...   \n",
       "1                 MEMBER  Thanks - actually heading cells are no longer ...   \n",
       "2            CONTRIBUTOR                          Alright. Fixing it now...   \n",
       "3                 MEMBER                                         Thanks :-)   \n",
       "4                 MEMBER  This is an iPython bug from what I can tell. I...   \n",
       "...                  ...                                                ...   \n",
       "30729        CONTRIBUTOR  @kevin-bates since nobody has reviewed this ye...   \n",
       "30730             MEMBER  Hi Ben - sorry for the frustration.  It certai...   \n",
       "30731        CONTRIBUTOR  @marijnh I see you've been active on the CodeM...   \n",
       "30732               NONE  @bthayer2365 Hi. Sorry, too busy to start revi...   \n",
       "30733             MEMBER  @bthayer2365 - Here are a couple more suggesti...   \n",
       "\n",
       "        user_login user_type  user_site_admin  \n",
       "0      kevin-bates      User            False  \n",
       "1        takluyver      User            False  \n",
       "2        syedtshah      User            False  \n",
       "3        takluyver      User            False  \n",
       "4        jakirkham      User            False  \n",
       "...            ...       ...              ...  \n",
       "30729    benthayer      User            False  \n",
       "30730  kevin-bates      User            False  \n",
       "30731    benthayer      User            False  \n",
       "30732      marijnh      User            False  \n",
       "30733  kevin-bates      User            False  \n",
       "\n",
       "[30734 rows x 9 columns]"
      ]
     },
     "execution_count": 13,
     "metadata": {},
     "output_type": "execute_result"
    }
   ],
   "source": [
    "data_df"
   ]
  },
  {
   "cell_type": "code",
   "execution_count": 15,
   "id": "ba8288c9",
   "metadata": {},
   "outputs": [
    {
     "data": {
      "text/plain": [
       "array([False,  True])"
      ]
     },
     "execution_count": 15,
     "metadata": {},
     "output_type": "execute_result"
    }
   ],
   "source": [
    "data_df.user_site_admin.unique()"
   ]
  },
  {
   "cell_type": "code",
   "execution_count": 19,
   "id": "4c2d77b2",
   "metadata": {},
   "outputs": [
    {
     "data": {
      "text/plain": [
       "array(['User', 'Bot'], dtype=object)"
      ]
     },
     "execution_count": 19,
     "metadata": {},
     "output_type": "execute_result"
    }
   ],
   "source": [
    "data_df.user_type.unique()"
   ]
  },
  {
   "cell_type": "code",
   "execution_count": 21,
   "id": "d76303a7",
   "metadata": {},
   "outputs": [
    {
     "data": {
      "text/plain": [
       "user_type\n",
       "Bot        67\n",
       "User    30667\n",
       "Name: id, dtype: int64"
      ]
     },
     "execution_count": 21,
     "metadata": {},
     "output_type": "execute_result"
    }
   ],
   "source": [
    "data_df.groupby('user_type')['id'].nunique() # 67 bot messages. Need to be cleaned?"
   ]
  },
  {
   "cell_type": "code",
   "execution_count": 26,
   "id": "4e8e57b9",
   "metadata": {},
   "outputs": [
    {
     "data": {
      "text/plain": [
       "user_site_admin\n",
       "False    30724\n",
       "True        10\n",
       "Name: id, dtype: int64"
      ]
     },
     "execution_count": 26,
     "metadata": {},
     "output_type": "execute_result"
    }
   ],
   "source": [
    "data_df.groupby('user_site_admin')['id'].nunique() # 10 Admin messages. What are they?"
   ]
  },
  {
   "cell_type": "code",
   "execution_count": 30,
   "id": "5db8a449",
   "metadata": {},
   "outputs": [
    {
     "data": {
      "text/html": [
       "<div>\n",
       "<style scoped>\n",
       "    .dataframe tbody tr th:only-of-type {\n",
       "        vertical-align: middle;\n",
       "    }\n",
       "\n",
       "    .dataframe tbody tr th {\n",
       "        vertical-align: top;\n",
       "    }\n",
       "\n",
       "    .dataframe thead th {\n",
       "        text-align: right;\n",
       "    }\n",
       "</style>\n",
       "<table border=\"1\" class=\"dataframe\">\n",
       "  <thead>\n",
       "    <tr style=\"text-align: right;\">\n",
       "      <th></th>\n",
       "      <th>issue_count</th>\n",
       "      <th>id</th>\n",
       "      <th>created_at</th>\n",
       "      <th>updated_at</th>\n",
       "      <th>author_association</th>\n",
       "      <th>body</th>\n",
       "      <th>user_login</th>\n",
       "      <th>user_type</th>\n",
       "      <th>user_site_admin</th>\n",
       "    </tr>\n",
       "  </thead>\n",
       "  <tbody>\n",
       "    <tr>\n",
       "      <th>8458</th>\n",
       "      <td>1246</td>\n",
       "      <td>380271464</td>\n",
       "      <td>2018-11-13T15:10:18Z</td>\n",
       "      <td>2021-04-04T00:21:31Z</td>\n",
       "      <td>NONE</td>\n",
       "      <td>Observed behavior: Users periodically open not...</td>\n",
       "      <td>glortho</td>\n",
       "      <td>User</td>\n",
       "      <td>True</td>\n",
       "    </tr>\n",
       "    <tr>\n",
       "      <th>9856</th>\n",
       "      <td>1246</td>\n",
       "      <td>252996107</td>\n",
       "      <td>2017-08-25T19:24:10Z</td>\n",
       "      <td>2021-04-04T00:22:43Z</td>\n",
       "      <td>CONTRIBUTOR</td>\n",
       "      <td>Addresses issue #1749 \\r\\n\\r\\nHad to add some ...</td>\n",
       "      <td>itsJiaqi</td>\n",
       "      <td>User</td>\n",
       "      <td>True</td>\n",
       "    </tr>\n",
       "    <tr>\n",
       "      <th>10078</th>\n",
       "      <td>1246</td>\n",
       "      <td>236846207</td>\n",
       "      <td>2017-06-19T10:27:31Z</td>\n",
       "      <td>2021-04-06T00:16:43Z</td>\n",
       "      <td>NONE</td>\n",
       "      <td>Converting a cell to markdown (via the drop do...</td>\n",
       "      <td>jhelie</td>\n",
       "      <td>User</td>\n",
       "      <td>True</td>\n",
       "    </tr>\n",
       "    <tr>\n",
       "      <th>16475</th>\n",
       "      <td>2019</td>\n",
       "      <td>439063661</td>\n",
       "      <td>2018-11-15T14:44:07Z</td>\n",
       "      <td>2018-11-15T19:52:41Z</td>\n",
       "      <td>NONE</td>\n",
       "      <td>We've confirmed that this does appear to happe...</td>\n",
       "      <td>glortho</td>\n",
       "      <td>User</td>\n",
       "      <td>True</td>\n",
       "    </tr>\n",
       "    <tr>\n",
       "      <th>16476</th>\n",
       "      <td>2019</td>\n",
       "      <td>439075797</td>\n",
       "      <td>2018-11-15T15:17:42Z</td>\n",
       "      <td>2018-11-15T15:18:09Z</td>\n",
       "      <td>NONE</td>\n",
       "      <td>I could be off-base but it seems like we'd eit...</td>\n",
       "      <td>glortho</td>\n",
       "      <td>User</td>\n",
       "      <td>True</td>\n",
       "    </tr>\n",
       "    <tr>\n",
       "      <th>16478</th>\n",
       "      <td>2019</td>\n",
       "      <td>439094745</td>\n",
       "      <td>2018-11-15T16:09:31Z</td>\n",
       "      <td>2018-11-15T16:09:31Z</td>\n",
       "      <td>NONE</td>\n",
       "      <td>Thank you kindly for your attention to this @k...</td>\n",
       "      <td>glortho</td>\n",
       "      <td>User</td>\n",
       "      <td>True</td>\n",
       "    </tr>\n",
       "    <tr>\n",
       "      <th>16481</th>\n",
       "      <td>2019</td>\n",
       "      <td>439260107</td>\n",
       "      <td>2018-11-16T02:24:40Z</td>\n",
       "      <td>2018-11-16T02:24:40Z</td>\n",
       "      <td>NONE</td>\n",
       "      <td>Awesome Kevin!\\n\\nOn Thu, Nov 15, 2018 at 20:0...</td>\n",
       "      <td>glortho</td>\n",
       "      <td>User</td>\n",
       "      <td>True</td>\n",
       "    </tr>\n",
       "    <tr>\n",
       "      <th>20009</th>\n",
       "      <td>2653</td>\n",
       "      <td>309690427</td>\n",
       "      <td>2017-06-20T08:59:40Z</td>\n",
       "      <td>2017-06-20T08:59:40Z</td>\n",
       "      <td>NONE</td>\n",
       "      <td>Closing this as the issue seems to have disapp...</td>\n",
       "      <td>jhelie</td>\n",
       "      <td>User</td>\n",
       "      <td>True</td>\n",
       "    </tr>\n",
       "    <tr>\n",
       "      <th>20011</th>\n",
       "      <td>2653</td>\n",
       "      <td>310130539</td>\n",
       "      <td>2017-06-21T16:17:35Z</td>\n",
       "      <td>2017-06-21T16:17:35Z</td>\n",
       "      <td>NONE</td>\n",
       "      <td>@mpacer I'm on 5.0.0 and can't readily downgra...</td>\n",
       "      <td>jhelie</td>\n",
       "      <td>User</td>\n",
       "      <td>True</td>\n",
       "    </tr>\n",
       "    <tr>\n",
       "      <th>20436</th>\n",
       "      <td>2746</td>\n",
       "      <td>420352074</td>\n",
       "      <td>2018-09-11T17:21:28Z</td>\n",
       "      <td>2018-09-11T17:21:28Z</td>\n",
       "      <td>NONE</td>\n",
       "      <td>We get this error periodically when first navi...</td>\n",
       "      <td>glortho</td>\n",
       "      <td>User</td>\n",
       "      <td>True</td>\n",
       "    </tr>\n",
       "  </tbody>\n",
       "</table>\n",
       "</div>"
      ],
      "text/plain": [
       "       issue_count         id            created_at            updated_at  \\\n",
       "8458          1246  380271464  2018-11-13T15:10:18Z  2021-04-04T00:21:31Z   \n",
       "9856          1246  252996107  2017-08-25T19:24:10Z  2021-04-04T00:22:43Z   \n",
       "10078         1246  236846207  2017-06-19T10:27:31Z  2021-04-06T00:16:43Z   \n",
       "16475         2019  439063661  2018-11-15T14:44:07Z  2018-11-15T19:52:41Z   \n",
       "16476         2019  439075797  2018-11-15T15:17:42Z  2018-11-15T15:18:09Z   \n",
       "16478         2019  439094745  2018-11-15T16:09:31Z  2018-11-15T16:09:31Z   \n",
       "16481         2019  439260107  2018-11-16T02:24:40Z  2018-11-16T02:24:40Z   \n",
       "20009         2653  309690427  2017-06-20T08:59:40Z  2017-06-20T08:59:40Z   \n",
       "20011         2653  310130539  2017-06-21T16:17:35Z  2017-06-21T16:17:35Z   \n",
       "20436         2746  420352074  2018-09-11T17:21:28Z  2018-09-11T17:21:28Z   \n",
       "\n",
       "      author_association                                               body  \\\n",
       "8458                NONE  Observed behavior: Users periodically open not...   \n",
       "9856         CONTRIBUTOR  Addresses issue #1749 \\r\\n\\r\\nHad to add some ...   \n",
       "10078               NONE  Converting a cell to markdown (via the drop do...   \n",
       "16475               NONE  We've confirmed that this does appear to happe...   \n",
       "16476               NONE  I could be off-base but it seems like we'd eit...   \n",
       "16478               NONE  Thank you kindly for your attention to this @k...   \n",
       "16481               NONE  Awesome Kevin!\\n\\nOn Thu, Nov 15, 2018 at 20:0...   \n",
       "20009               NONE  Closing this as the issue seems to have disapp...   \n",
       "20011               NONE  @mpacer I'm on 5.0.0 and can't readily downgra...   \n",
       "20436               NONE  We get this error periodically when first navi...   \n",
       "\n",
       "      user_login user_type  user_site_admin  \n",
       "8458     glortho      User             True  \n",
       "9856    itsJiaqi      User             True  \n",
       "10078     jhelie      User             True  \n",
       "16475    glortho      User             True  \n",
       "16476    glortho      User             True  \n",
       "16478    glortho      User             True  \n",
       "16481    glortho      User             True  \n",
       "20009     jhelie      User             True  \n",
       "20011     jhelie      User             True  \n",
       "20436    glortho      User             True  "
      ]
     },
     "execution_count": 30,
     "metadata": {},
     "output_type": "execute_result"
    }
   ],
   "source": [
    "data_df[data_df['user_site_admin'] == True]"
   ]
  },
  {
   "cell_type": "code",
   "execution_count": 31,
   "id": "1b801385",
   "metadata": {},
   "outputs": [
    {
     "data": {
      "text/plain": [
       "array(['MEMBER', 'CONTRIBUTOR', 'NONE'], dtype=object)"
      ]
     },
     "execution_count": 31,
     "metadata": {},
     "output_type": "execute_result"
    }
   ],
   "source": [
    "data_df.author_association.unique()"
   ]
  },
  {
   "cell_type": "code",
   "execution_count": 32,
   "id": "02e0b78f",
   "metadata": {},
   "outputs": [
    {
     "data": {
      "text/plain": [
       "author_association\n",
       "CONTRIBUTOR     5312\n",
       "MEMBER         12820\n",
       "NONE           12602\n",
       "Name: id, dtype: int64"
      ]
     },
     "execution_count": 32,
     "metadata": {},
     "output_type": "execute_result"
    }
   ],
   "source": [
    "data_df.groupby('author_association')['id'].nunique()"
   ]
  }
 ],
 "metadata": {
  "kernelspec": {
   "display_name": "Python 3.7.2 64-bit ('env': venv)",
   "language": "python",
   "name": "python372jvsc74a57bd0efebd8704beb6580b3b4f277ecbe4a38f101d7d888d0a8bdaa89f52e3bf24a1e"
  },
  "language_info": {
   "codemirror_mode": {
    "name": "ipython",
    "version": 3
   },
   "file_extension": ".py",
   "mimetype": "text/x-python",
   "name": "python",
   "nbconvert_exporter": "python",
   "pygments_lexer": "ipython3",
   "version": "3.7.2"
  }
 },
 "nbformat": 4,
 "nbformat_minor": 5
}
