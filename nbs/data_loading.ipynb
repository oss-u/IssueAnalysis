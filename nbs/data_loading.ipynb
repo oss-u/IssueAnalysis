{
 "cells": [
  {
   "cell_type": "code",
   "execution_count": 1,
   "id": "a45d3ee8",
   "metadata": {},
   "outputs": [],
   "source": [
    "import os\n",
    "import re\n",
    "import configparser\n",
    "from datetime import datetime\n",
    "from github import Github"
   ]
  },
  {
   "cell_type": "code",
   "execution_count": 2,
   "id": "e6553645",
   "metadata": {},
   "outputs": [],
   "source": [
    "def read_auth_from_config():\n",
    "    config = configparser.ConfigParser()\n",
    "    if os.path.isfile('../utils/cred.conf'):\n",
    "        config.read('../utils/cred.conf')\n",
    "        user = config['auth']['username']\n",
    "        pwd = config['auth']['password']\n",
    "        token = config['auth']['token']\n",
    "        return user, pwd, token"
   ]
  },
  {
   "cell_type": "code",
   "execution_count": 3,
   "id": "07538f9e",
   "metadata": {},
   "outputs": [],
   "source": [
    "def authenticate(token):\n",
    "    if not token:\n",
    "        try:\n",
    "            user, pwd, token = read_auth_from_config()\n",
    "        except Exception as e:\n",
    "            print(\"Config error.\")\n",
    "    return Github(token)"
   ]
  },
  {
   "cell_type": "code",
   "execution_count": 4,
   "id": "ca5bf090",
   "metadata": {},
   "outputs": [],
   "source": [
    "repo_name = 'jupyter_notebook'"
   ]
  },
  {
   "cell_type": "code",
   "execution_count": 5,
   "id": "17783e4b",
   "metadata": {},
   "outputs": [],
   "source": [
    "gh = authenticate(read_auth_from_config()[2])\n",
    "repo = gh.get_repo(\"/\".join(repo_name.split('_')))"
   ]
  },
  {
   "cell_type": "code",
   "execution_count": 6,
   "id": "2061e2d9",
   "metadata": {},
   "outputs": [],
   "source": [
    "pull_req_number = 1160"
   ]
  },
  {
   "cell_type": "code",
   "execution_count": 7,
   "id": "d55ec262",
   "metadata": {},
   "outputs": [],
   "source": [
    "pull = repo.get_pull(pull_req_number) # https://github.com/jupyter/notebook/pull/1160\n",
    "comments = pull.get_issue_comments()"
   ]
  },
  {
   "cell_type": "code",
   "execution_count": 8,
   "id": "82b7347a",
   "metadata": {},
   "outputs": [
    {
     "data": {
      "text/plain": [
       "49"
      ]
     },
     "execution_count": 8,
     "metadata": {},
     "output_type": "execute_result"
    }
   ],
   "source": [
    "pull.comments # Total of 49 comments"
   ]
  },
  {
   "cell_type": "code",
   "execution_count": 9,
   "id": "f1f835e0",
   "metadata": {},
   "outputs": [
    {
     "data": {
      "text/plain": [
       "(\"until we are more ready to emphasize it.\\n\\nLab's still there, you just have to enter the URL for now.\\n\\ncc @fperez @ellisonbg @jasongrout @blink1073\\n\",\n",
       " 'minrk')"
      ]
     },
     "execution_count": 9,
     "metadata": {},
     "output_type": "execute_result"
    }
   ],
   "source": [
    "pull.body, pull.user.login"
   ]
  },
  {
   "cell_type": "code",
   "execution_count": 10,
   "id": "c5199ace",
   "metadata": {},
   "outputs": [
    {
     "data": {
      "text/plain": [
       "'16:45'"
      ]
     },
     "execution_count": 10,
     "metadata": {},
     "output_type": "execute_result"
    }
   ],
   "source": [
    "pull.created_at.strftime(\"%M:%S\") # Format required "
   ]
  },
  {
   "cell_type": "code",
   "execution_count": 11,
   "id": "d3604869",
   "metadata": {},
   "outputs": [
    {
     "data": {
      "text/plain": [
       "'https://github.com/jupyter/notebook/pull/1160.diff'"
      ]
     },
     "execution_count": 11,
     "metadata": {},
     "output_type": "execute_result"
    }
   ],
   "source": [
    "pull.diff_url # Someday we can try to use this"
   ]
  },
  {
   "cell_type": "code",
   "execution_count": 12,
   "id": "a5ef15b2",
   "metadata": {},
   "outputs": [
    {
     "data": {
      "text/plain": [
       "[Label(name=\"status:resolved-locked\")]"
      ]
     },
     "execution_count": 12,
     "metadata": {},
     "output_type": "execute_result"
    }
   ],
   "source": [
    "pull.labels"
   ]
  },
  {
   "cell_type": "code",
   "execution_count": 13,
   "id": "8dfafdbc",
   "metadata": {},
   "outputs": [
    {
     "data": {
      "text/plain": [
       "0"
      ]
     },
     "execution_count": 13,
     "metadata": {},
     "output_type": "execute_result"
    }
   ],
   "source": [
    "pull.review_comments # If this wasn't 0, then get_review_comments to get review comments"
   ]
  },
  {
   "cell_type": "code",
   "execution_count": 14,
   "id": "7344aed3",
   "metadata": {},
   "outputs": [],
   "source": [
    "def clean_string(line):\n",
    "    if line.startswith('![') and line.endswith(')'):\n",
    "        l = \"<image>\"\n",
    "        return l\n",
    "    # replace emojis with tokens\n",
    "    l = re.sub(r':.{1,8}:', '<emoji>', line)\n",
    "    # replace users with tokens\n",
    "    l = re.sub(r'@\\w*', '<user>', l)\n",
    "    # replace italics\n",
    "    l = re.sub(r'(_)(.*)(_)', r'\\2', l)\n",
    "    # replace urls\n",
    "    l = re.sub(r'http(s)?:\\/\\/.*', '<url>', l)\n",
    "    return l"
   ]
  },
  {
   "cell_type": "code",
   "execution_count": 15,
   "id": "ecb36e33",
   "metadata": {},
   "outputs": [],
   "source": [
    "thread = []\n",
    "init_comment = []\n",
    "for line in pull.body.split('\\n'): \n",
    "    if line:\n",
    "        init_comment.append(clean_string(line))\n",
    "init_comment = \" \".join(init_comment)\n",
    "thread.append((pull.created_at.strftime(\"%M:%S\"), pull.user.login, init_comment))"
   ]
  },
  {
   "cell_type": "code",
   "execution_count": 16,
   "id": "22c003c6",
   "metadata": {},
   "outputs": [],
   "source": [
    "for comment in comments:\n",
    "    body = comment.body.split('\\n')\n",
    "    cleaned = []\n",
    "    for line in body:\n",
    "        # Remove blank lines\n",
    "        if line:\n",
    "            # remove quotes\n",
    "            if line.startswith('>'):\n",
    "                continue\n",
    "            cleaned.append(clean_string(line))\n",
    "    cleaned = \" \".join(cleaned)\n",
    "    thread.append((comment.created_at.strftime(\"%M:%S\"), comment.user.login, cleaned))"
   ]
  },
  {
   "cell_type": "code",
   "execution_count": 17,
   "id": "32fd64e3",
   "metadata": {},
   "outputs": [
    {
     "name": "stdout",
     "output_type": "stream",
     "text": [
      "('16:45', 'minrk', \"until we are more ready to emphasize it. Lab's still there, you just have to enter the URL for now. cc <user> <user> <user> <user>\")\n",
      "\n",
      "('21:12', 'dwillmer', \"i appreciate your point, but i really think this is the wrong thing to do. it's clearly marked as alpha - is there something specific that you'd like to see before calling it alpha?\")\n",
      "\n",
      "('21:56', 'jasongrout', \"I'm comfortable either way, since it's on master - it depends on how many people run on master.  Either way, <user> also suggested we have a very visible notice of what to expect and what won't work.\")\n",
      "\n",
      "('23:38', 'jasongrout', 'The other factor in the decision for me is how close we are to releasing notebook master as a new release. If it\\'s soon, then not having the button makes sense to me. If it will be a while, enough so we can get the notebook working \"minimally\", then I think the button is fine.')\n",
      "\n",
      "('24:31', 'jasongrout', \"But to <user>'s point - let's have a meeting between everyone to draw the feature line for when it's 'ready' for beta testing, etc.\")\n",
      "\n",
      "('48:12', 'minrk', \"We definitely aren't close to releasing 5.0. We've just had several complaints already suggesting that the button either shouldn't be there, or should be significantly less prominent, at least until Lab can actually be used for something (basic notebook execution).\")\n",
      "\n",
      "('54:28', 'sccolbert', 'It can currently be used to edit text, run terminals, and do file system operations. Basic notebook execution also works, but with a reduced subset of functionality (if we remove the read-only restriction).')\n",
      "\n",
      "('56:29', 'sccolbert', 'There are people running on master, complaining that a well-marked alpha version of in-development code does not work perfectly?')\n",
      "\n",
      "('58:14', 'minrk', 'No, there are people complaining that an extremely prominent link that says \"Try me!\" doesn\\'t do the one thing they care about using Jupyter for: write, edit, and execute notebooks, and there\\'s no information conveying that they shouldn\\'t expect it to do so.')\n",
      "\n",
      "('59:50', 'sccolbert', 'These are developers running from master though, and the button says \"try\" and \"alpha\". I don\\'t see why this is a problem.')\n",
      "\n",
      "('00:33', 'minrk', \"I don't see why delaying the introduction of a button is a problem, either.\")\n",
      "\n",
      "('02:35', 'takluyver', \"Would sticking it at the bottom of the page for now and tweaking the wording (not exactly sure how, but something less encouraging than 'Try me') be an acceptable compromise?\")\n",
      "\n",
      "('04:48', 'dwillmer', 'I think the best thing to do is get everyone on a video chat, as Jason suggested, otherwise this PR conversation will quickly become unmanageable :)')\n",
      "\n",
      "('08:41', 'jasongrout', 'I think we all agree that there should at least be a prominent notice about what to expect (a modal when the page starts, or a tab on the sidepanel, or a notice at the top of the page, or something).')\n",
      "\n",
      "('09:40', 'jasongrout', \"Good point <user> - there's likely a compromise somewhere. I think we shouldn't bike-shed this too much either.\")\n",
      "\n",
      "('40:22', 'fperez', 'Note that currently it doesn\\'t even execute or edit notebooks. So the main functionality of the notebook doesn\\'t actually work at all. It\\'s ok to push out alpha tools, but the current state isn\\'t quite at alpha functionality yet, and we run the risk of simply turn users away. I think we need to introduce it gradually. As we gain more functionality, we can display it more prominently, but right now we basically need design/UI feedback, it\\'s not really something people can \"try\" in the sense of using it as a notebook, even for 5 minutes. So I think we need: -  initially a less-prominent invitation, just so it\\'s easy to find it for someone who actually wants to help test.  We can email the list for now to invite people to try it out.  <user>\\'s suggestion is a good one. To keep it simple, we could make it  a plain text link for now (to avoid re-design work); once it matures we can use the nice \"try me\" button. - an information page that tells people roughly what to expect.  Right now, they might assume that it\\'s an actual notebook, and think the lack of execution (a most basic feature to do anything useful) is missing might be a bug.  We don\\'t want that reported, so people need to know what\\'s to be expected as working and what they should report as a bug. - as we add features, we can move the invitation to be more prominent, changing the plain text link to be the nicer button at the top. And yes, I\\'m a developer (sort of :) who runs off master and tried it, but I was immediately confused by the lack of execution, which I thought was a bug as I would expect that it would at least let me do something_ with the notebooks.  So if _I had that reaction, we should assume that it can happen to others too and act accordingly.')\n",
      "\n",
      "('43:01', 'sccolbert', 'I\\'m going to jump on the \"let\\'s have a call about this\" train. The current state is a product of joint decisions between my team and the Jupyter core team, so clearly something was lost in translation.')\n",
      "\n",
      "('49:43', 'fperez', 'Unfortunately I have a string of meetings today. But I had a chance to discuss this with <user> yesterday by happenstance, he might be able to channel my thoughts, as it seems I failed to do so in the thread...')\n",
      "\n",
      "('50:29', 'jasongrout', \"I don't think anything was lost in translation (i.e., we did exactly what we had planned and had decided on). What happened is that we got feedback and now we're adjusting in response to that helpful feedback.\")\n",
      "\n",
      "('51:53', 'Carreau', '+1 on lowering the visibility of the button. It\\'s far from matching the theme of the current UI, feel (to me) like someone yelling at me in upper case letter. I don\\'t think having a \"lab\" button of the page is a bad thing. I think the Style, Location and visibility are just inappropriate.')\n",
      "\n",
      "('02:46', 'sccolbert', \"I'm fine with adapting style and adding disclaimers, but I think hiding it altogether is a heavy-handed reaction. Basic execution in the notebook does_ work, but we were specifically asked by Min to make it read-only because it doesn't support _all output types yet. The point of the button is to solicit feedback from bleeding edge developers, and hiding it will limit that feedback. I'm not suggesting it be rolled out in a user release at this point.\")\n",
      "\n",
      "('09:38', 'Carreau', 'Agreed it might be too much.  The all point of master is to get feedback from bleeding edge developer. The Lab Page is not the only one that get update and need feedback and have no reason to get special treatment. Plus it attracts all users that are running on master instead of just advanced developer who are the one we seek feedback from.  The master branch is also useful to see how people discover things in the UI, and if the interaction with the UI is seamless and feature discoverable. Adding a flashy button which main point is to be removed later,  have a complete opposite effect of what is desired,  and target the wrong kind of individual thus makes no sens to me. ')\n",
      "\n",
      "('15:53', 'sccolbert', 'These two statements seem contradictory to me. Is there a better branch than master which targets only bleeding edge developers who can tolerate feature-incompleteness?')\n",
      "\n",
      "('21:23', 'minrk', \"I'm fine with the button, I just heard from a few directions that maybe it was a little premature to have it there. Sorry for starting this mess.\")\n",
      "\n",
      "('27:34', 'jasongrout', \"<user> - thanks for moving on the feedback, though. It sounds like Fernando's proposal is a good way forward.\")\n",
      "\n",
      "('29:47', 'jdfreder', \"I brought this up to <user> and this was his first time seeing the button integrated in the UI.  Here's how it looks now: <image> He (and I) think this looks better: <image>\")\n",
      "\n",
      "('30:43', 'jdfreder', \"Another idea, we could ask <user> to reduce the orange in the button, so it's not as focus grabbing.\")\n",
      "\n",
      "('31:55', 'rgbkrk', '<user> would it be possible to make a default panel in the lab setup that tells people about the lab interface?')\n",
      "\n",
      "('32:06', 'jdfreder', \"I also like <user> 's plain text link idea EDIT: <user> 's suggestion\")\n",
      "\n",
      "('35:15', 'sccolbert', '<user> Yep - great idea, we can have an \"About\" tab or something with that info. Just need the text/html people want to put in it.')\n",
      "\n",
      "('36:44', 'rgbkrk', 'Go ahead and make the About tab with the text \"This is JupyterLab!\", then I\\'ll merge it and can submit a PR with better text in it after. <emoji>')\n",
      "\n",
      "('39:15', 'sccolbert', '<user> ^')\n",
      "\n",
      "('40:06', 'Carreau', \"No. We strive to keep master usable at all time to get feedback from most of the community.  By bleeding edge developer I mean developer that are running the bleeding edge version. You shouldn't need to have 36 Years of experience in Python and Typescript to run master. So yes on master you have a lot of user that are not even experienced with git and just know how to do git pull. If you put a Big Orange button you can expect to get testing (mostly) from these.  If you want feedback from advance developers, you make a feature which is relatively hard to reach, hidden behind a config option, or a non obvious link and advertise it on twitter,  the mailing list. Or even just a message in the JS console. \")\n",
      "\n",
      "('50:28', 'blink1073', '<user>, see <url>')\n",
      "\n",
      "('54:05', 'rgbkrk', 'As one of the people who said that we should consider making `jupyter/notebook` and `jupyter/lab` two separate projects (one has to keep the old APIs, one has their continued green field engineering), I thank <user> for kicking off this discussion. It had to happen, as a lot of people were fairly minimal in their responses (not wanting to spend too much energy/time combatting it).  <emoji> I was fairly quiet in the past of just accepting that \"this is what we decided, there is no argument™\" The JupyterLab interface is very slick and responsive (with some edges that I\\'m sure will get cleaned up) and people want a way to showcase it. The cool thing is we can keep moving and disappearing the button every day until we\\'re happy. Consensus is in the code.')\n",
      "\n",
      "('49:32', 'parente', \"(Sticks neck out) Any support for making the button more like the existing tabs on the dashboard page already? I know it's not a true tab, but if it appeared in the tab row, maybe right aligned away from the other tabs, it would fit with the existing UI, still be noticeable enough for people to click it, and could contain any amount of text required to express its alpha/experimental/try-this-and-give-us-feedback nature.\")\n",
      "\n",
      "('01:53', 'Carreau', 'I like this idea.')\n",
      "\n",
      "('10:25', 'takluyver', \"Interesting idea, but I don't think it's great UX to have something that looks like a tab but doesn't behave like one (i.e. it does something other than switching the view in the tab content area).\")\n",
      "\n",
      "('13:21', 'dwillmer', \"<emoji> <user> is right, it's a nice idea for not having it so visible, but is the wrong interaction. A smaller button, possibly moved to a different place would be better.\")\n",
      "\n",
      "('07:07', 'parente', \"While this is an open topic, what's the approach an admin of a Jupyter 5.0  deployment should take to disable / hide the try button until he/she is ready to expose and support the new Lab interface? Is there a command line feature flag? Does the admin have to provide custom CSS / template for the dashboard page?\")\n",
      "\n",
      "('41:07', 'Carreau', \"Good question, I don't think we had anything planned in advance.  It should be relatively easy to add a serverside flag. \")\n",
      "\n",
      "('13:01', 'cameronoelsen', 'What if we just took away the \"try\" and the orange accent on the button and made it more subtle. Also, the \"Try\" is probably implied because of the \"alpha release\" text under the title. <image>')\n",
      "\n",
      "('13:50', 'rgbkrk', '<user> That makes it look like the dashboard is jupyterlab')\n",
      "\n",
      "('14:06', 'cameronoelsen', '<user> Yeah I was thinking of that too :/')\n",
      "\n",
      "('16:21', 'rgbkrk', \"I do like how subtle the button is there <user> - it fits the current UI very well. Without the try, I think that's how it makes it look like a brand on the notebook dashboard.\")\n",
      "\n",
      "('04:22', 'cameronoelsen', 'What if we got away from that button and just put a dropdown arrow next to the Jupyter dashboard logo. When you click on it, it reveals a menu that lets you get to the jupyterhub dashboard (aka just the app itself) <image> <image> Or even just having the jupyterlab icon: <image>')\n",
      "\n",
      "('12:20', 'fperez', 'I like that last option a lot: easy to find for someone who needs it, less likely to catch the unwary :) And BTW: I want to reiterate this wasn\\'t a slight at all on the original work!  I think it\\'s great to have JLab more easily accessible, so we can provide feedback and iterate.  Consider this round 1 of that feedback.  I also love the stronger button, which we can use later on when things are more functional, and we\\'re willing to start attracting more folks. Now, one thing I think is very important is to provide a very obvious information page that sets expectations for users who do open it. For example, telling them that right now the notebook tab is read-only.  Otherwise people are just likely to be confused.  Our project has a tradition of master being bleeding edge but basically usable, and I see no reason to deviate from that.  But as long as we communicate clearly what we expect to work and what not, we can get feedback this way.  If nothing else, that\\'s critical to get usable reports, otherwise we\\'re just going to get a bunch of people filing bugs that say \"the notebook doesn\\'t run\", and we\\'ll spend our time closing them as false positives. Thanks again!')\n",
      "\n",
      "('18:56', 'Carreau', 'This is already much better in master :  <image>')\n",
      "\n",
      "('21:55', 'fperez', \"Ah, great! I hadn't pulled so I hand't noticed that. Many, many thanks!!\")\n",
      "\n",
      "('41:45', 'sccolbert', '<emoji> noice!')\n",
      "\n"
     ]
    }
   ],
   "source": [
    "for each in thread:\n",
    "    print(each)\n",
    "    print()"
   ]
  },
  {
   "cell_type": "code",
   "execution_count": 18,
   "id": "77f21dbc",
   "metadata": {},
   "outputs": [],
   "source": [
    "with open(f'../dataset/raw/detailed/{repo_name}/{pull_req_number}.raw.txt', 'w') as f:\n",
    "    for ic in thread:\n",
    "        line = f\"[{ic[0]}] <{ic[1]}> {ic[2]}\\n\"\n",
    "        f.write(line)"
   ]
  },
  {
   "cell_type": "markdown",
   "id": "e39a3145",
   "metadata": {},
   "source": [
    "Rest of the code is for formatting it as per the pointer network requirements."
   ]
  }
 ],
 "metadata": {
  "kernelspec": {
   "display_name": "Python 3",
   "language": "python",
   "name": "python3"
  },
  "language_info": {
   "codemirror_mode": {
    "name": "ipython",
    "version": 3
   },
   "file_extension": ".py",
   "mimetype": "text/x-python",
   "name": "python",
   "nbconvert_exporter": "python",
   "pygments_lexer": "ipython3",
   "version": "3.7.2"
  }
 },
 "nbformat": 4,
 "nbformat_minor": 5
}
